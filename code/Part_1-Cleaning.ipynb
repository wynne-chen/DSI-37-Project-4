{
 "cells": [
  {
   "cell_type": "markdown",
   "id": "a8442325",
   "metadata": {},
   "source": [
    "<img src=\"http://imgur.com/1ZcRyrc.png\" style=\"float: left; margin: 20px; height: 55px\">\n",
    "\n",
    "# DSI 37 Project 4"
   ]
  },
  {
   "cell_type": "markdown",
   "id": "43a4045a",
   "metadata": {},
   "source": [
    "<a id='part_i'></a>\n",
    "[Part II](Part_2-EDA_and_Feature_Engineering.ipynb#part_ii) <br>\n",
    "[Part III](Part_3-Modelling.ipynb#part_iii)"
   ]
  },
  {
   "cell_type": "markdown",
   "id": "0416e045",
   "metadata": {},
   "source": [
    "# Part I: Cleaning"
   ]
  },
  {
   "cell_type": "markdown",
   "id": "5cf6125f",
   "metadata": {},
   "source": [
    "<a id='part_i'></a>"
   ]
  },
  {
   "cell_type": "markdown",
   "id": "0fa74d92",
   "metadata": {},
   "source": [
    "## Contents\n",
    "\n",
    "[1. Intro](#intro)<br>\n",
    "[2. Glossary](#glossary)<br>\n",
    "[3. Imports](#imports)<br>\n",
    "[4. Code](#code)<br>\n",
    "[5. Citations](#citations)<br>\n"
   ]
  },
  {
   "cell_type": "markdown",
   "id": "befc8682",
   "metadata": {},
   "source": [
    "<a id='intro'></a>"
   ]
  },
  {
   "cell_type": "markdown",
   "id": "db11aef6",
   "metadata": {},
   "source": [
    "## 1. Intro"
   ]
  },
  {
   "cell_type": "markdown",
   "id": "3d80b898",
   "metadata": {},
   "source": [
    "## Problem Statement\n",
    "\n",
    "As a newly appointed member of the Disease And Treatment Agency's division of Societal Cures In Epidemiology and New Creative Engineering (DATA-SCIENCE), our task is to develop an efficient plan for the deployment of pesticides in response to the endemicity of West Nile Virus in the city. With the establishment of a surveillance and control system by the Department of Public Health, there is an opportunity to leverage collected data on mosquito populations to derive valuable insights. The aim is to strategically allocate resources and minimize costs associated with pesticide use while ensuring public health and safety. Our expertise in data analysis and modeling will be instrumental in formulating an effective pesticide deployment plan to combat the West Nile Virus outbreak in the Windy City."
   ]
  },
  {
   "cell_type": "markdown",
   "id": "c00ac7e0",
   "metadata": {},
   "source": [
    "## Objectives\n",
    "\n",
    "* The primary objective entails constructing a robust predictive model to facilitate informed decision-making by the city of Chicago regarding the strategic allocation of pesticide spraying for mosquito control.\n",
    "\n",
    "* Another component of the project involves conducting a comprehensive cost-benefit analysis. This analysis encompasses projecting direct and indirect costs associated with pesticide coverage and evaluating the corresponding benefits yielded by pesticide application."
   ]
  },
  {
   "cell_type": "markdown",
   "id": "002b7113",
   "metadata": {},
   "source": [
    "## Description of this codebook"
   ]
  },
  {
   "cell_type": "markdown",
   "id": "38f1adf2",
   "metadata": {},
   "source": [
    "This is part 1 of our overall code for this project. This part concerns the methods used to clean the data."
   ]
  },
  {
   "cell_type": "markdown",
   "id": "c6fa6a61",
   "metadata": {},
   "source": [
    "<a id='glossary'></a>"
   ]
  },
  {
   "cell_type": "markdown",
   "id": "8aaba38a",
   "metadata": {},
   "source": [
    "## 2. Glossary"
   ]
  },
  {
   "cell_type": "markdown",
   "id": "6851eb21",
   "metadata": {},
   "source": [
    "### West Nile Virus:\n",
    "West Nile virus is primarily transmitted by infected mosquitoes, causing symptoms in around 20% of individuals, ranging from fever to severe neurological illnesses. \n",
    "In 2002, the first human cases were reported in Chicago, leading to the establishment of a surveillance program. Mosquito traps are tested regularly during late spring to fall, guiding pesticide spraying for mosquito control. \n",
    "This Kaggle competition seeks to predict West Nile virus presence by utilizing weather, location, testing, and spraying data. Efficient outbreak predictions aid resource allocation. \n",
    "\n",
    "<b> Primary Data </b>:\n",
    "\n",
    "The training dataset comprises data from the years 2007, 2009, 2011, and 2013, while the test dataset comprises data from the years 2008, 2010, 2012, and 2014.\n",
    "To facilitate data organization, mosquito count records exceeding 50 are split into separate entries, ensuring that the number of mosquitoes does not exceed this limit.\n",
    "\n",
    "<b> Weather Data </b>:\n",
    "\n",
    "The weather dataset from NOAA contains weather conditions recorded between 2007 and 2014, specifically during the months of the tests. It is believed that hot and dry conditions are more conducive to West Nile virus than cold and wet conditions. \n",
    "The weather data is available for two stations: \n",
    "1. CHICAGO O'HARE INTERNATIONAL AIRPORT (Latitude: 41.995, Longitude: -87.933, Elevation: 662 ft. above sea level)\n",
    "2. CHICAGO MIDWAY INTL ARPT (Latitude: 41.786, Longitude: -87.752, Elevation: 612 ft. above sea level)\n",
    "\n",
    "<b> Spray Data </b>:\n",
    "\n",
    "The City of Chicago conducts mosquito spraying efforts, and GIS data for their spraying activities in 2011 and 2013 is provided. Spraying can reduce mosquito populations and potentially eliminate the presence of West Nile virus.\n",
    "\n",
    "<b> Map Data </b>:\n",
    "\n",
    "The map files, mapdata_copyright_openstreetmap_contributors.rds and mapdata_copyright_openstreetmap_contributors.txt, are sourced from OpenStreetMap and are primarily intended for use in visualizations.\n",
    "\n",
    "Acknowledgements:\n",
    "This competition is sponsored by the Robert Wood Johnson Foundation. Data is provided by the Chicago Department of Public Health.\n",
    "https://www.kaggle.com/competitions/predict-west-nile-virus"
   ]
  },
  {
   "cell_type": "markdown",
   "id": "89d7a0d0",
   "metadata": {},
   "source": [
    "### Data Dictionary\n",
    "The data dictionary for the four datasets utilized in this project is provided below for reference.\n",
    "\n",
    "`train_df`\n",
    "\n",
    "Period: 2007, 2009, 2011, and 2013\n",
    "\n",
    "|Feature|Type|Description|\n",
    "|:---|:---:|:---|\n",
    "|<b>Date</b>|*object*|Date that the WNV test is performed|\n",
    "|<b>Address</b>|*object*|Approximate address of the location of trap, this is used to send to the GeoCoder|\n",
    "|<b>Species</b>|*object*|The species of mosquitos|\n",
    "|<b>Block</b>| *int64*|Block number of address|\n",
    "|<b>Street</b>|*object*|Street name|\n",
    "|<b>Trap</b>|*object*|Id of the trap|\n",
    "|<b>AddressNumberAndStreet</b>|*object*|Approximate address returned from GeoCoder|\n",
    "|<b>Latitude</b>|*float64*|Latitude returned from GeoCoder|\n",
    "|<b>Longitude</b>|*float64*|Longitude returned from GeoCoder|\n",
    "|<b>AddressAccuracy</b>|*int64*|Accuracy returned from GeoCoder|\n",
    "|<b>NumMosquitos</b>|*int64*|Number of mosquitoes caught in this trap|\n",
    "|<b>WnvPresent</b>|*int64*|Whether West Nile Virus was present in these mosquitos. 1 means WNV is present, and 0 means not present. |\n",
    "\n",
    "<br>\n",
    "\n",
    "`test_df`\n",
    "\n",
    "Period: 2008, 2010, 2012, and 2014\n",
    "\n",
    "|Feature|Type|Description|\n",
    "|:---|:---:|:---|\n",
    "|<b>Id</b>|*int64*|The id of the record|\n",
    "|<b>Date</b>|*object*|Date that the WNV test is performed|\n",
    "|<b>Address</b>|*object*|Approximate address of the location of trap, this is used to send to the GeoCoder|\n",
    "|<b>Species</b>|*object*|The species of mosquitos|\n",
    "|<b>Block</b>| *int64*|Block number of address|\n",
    "|<b>Street</b>|*object*|Street name|\n",
    "|<b>Trap</b>|*object*|Id of the trap|\n",
    "|<b>AddressNumberAndStreet</b>|*object*|Approximate address returned from GeoCoder|\n",
    "|<b>Latitude</b>|*float64*|Latitude returned from GeoCoder|\n",
    "|<b>Longitude</b>|*float64*|Longitude returned from GeoCoder|\n",
    "|<b>AddressAccuracy</b>|*int64*|Accuracy returned from GeoCoder|\n",
    "\n",
    "<br>\n",
    "\n",
    "`weather_df`\n",
    "\n",
    "Period: 2007, 2008, 2009, 2010, 2011, 2012, 2013, and 2014\n",
    "\n",
    "|Feature|Type|Description|\n",
    "|:---|:---:|:---|\n",
    "|<b>Date</b>|*object*|Date of record|\n",
    "|<b>Station</b>|*int64*|Station number, either 1 or 2|\n",
    "|<b>Tmax</b>|*int64*|Maximum temperature in Degrees Fahrenheit|\n",
    "|<b>Tmin</b>|*int64*|Minimum temperature in Degrees Fahrenheit|\n",
    "|<b>Tavg</b>|*object*|Average temperature in Degrees Fahrenheit|\n",
    "|<b>Depart</b>| *object*|Temperature departure from normal in Degrees Fahrenheit|\n",
    "|<b>DewPoint</b>|*int64*|Average Dew Point in Degrees Fahrenheit|\n",
    "|<b>WetBulb</b>|*object*|Average Wet Bulb in Degrees Fahrenheit|\n",
    "|<b>Heat</b>|*object*|Absolute temperature difference of Tavg from base temperature of 65 Degrees Fahrenheit if Tavg < 65|\n",
    "|<b>Cool</b>|*object*|Absolute temperature difference of Tavg from base temperature of 65 Degrees Fahrenheit if Tavg > 65|\n",
    "|<b>Sunrise</b>|*object*|Time of Sunrise (Calculated, not observed)|\n",
    "|<b>Sunset</b>|*object*|Time of Sunset (Calculated, not observed)|\n",
    "|<b>CodeSum</b>|*object*|Weather Phenomena, refer to CodeSum Legend below|\n",
    "|<b>Depth</b>|*object*|Snow / ice in inches|\n",
    "|<b>Water1</b>|*object*|Water equivalent of Depth|\n",
    "|<b>SnowFall</b>| *object*|Snowfall in inches and tenths|\n",
    "|<b>PrecipTotal</b>|*object*|Rainfall and melted snow in inches and hundredths|\n",
    "|<b>StnPressure</b>|*object*|Average station pressure in inches of HG|\n",
    "|<b>SeaLevel</b>|*object*|Average sea level pressure in inches of HG|\n",
    "|<b>ResultSpeed</b>|*float64*|Resultant wind speed in miles per hour|\n",
    "|<b>ResultDir</b>|*int64*|Resultant wind direction in Degrees|\n",
    "|<b>AvgSpeed</b>|*object*|Average wind speed in miles per hour|\n",
    "\n",
    "<br>\n",
    "\n",
    "<b>CodeSum Legend</b>\n",
    "\n",
    "|code| explanation| \n",
    "|:-|:-|\n",
    "|+FC| TORNADO/WATERSPOUT|\n",
    "|FC | FUNNEL CLOUD|\n",
    "|TS | THUNDERSTORM|\n",
    "|GR | HAIL|\n",
    "|RA | RAIN|\n",
    "|DZ | DRIZZLE|\n",
    "|SN | SNOW|\n",
    "|SG | SNOW GRAINS|\n",
    "|GS | SMALL HAIL &/OR SNOW PELLETS|\n",
    "|PL | ICE PELLETS|\n",
    "|IC | ICE CRYSTALS|\n",
    "|FG+ | HEAVY FOG (FG & LE.25 MILES VISIBILITY)|\n",
    "|FG | FOG|\n",
    "|BR | MIST|\n",
    "|UP | UNKNOWN PRECIPITATION|\n",
    "|HZ | HAZE|\n",
    "|FU | SMOKE|\n",
    "|VA | VOLCANIC ASH|\n",
    "|DU | WIDESPREAD DUST|\n",
    "|DS | DUSTSTORM|\n",
    "|PO | SAND/DUST WHIRLS|\n",
    "|SA | SAND|\n",
    "|SS | SANDSTORM|\n",
    "|PY | SPRAY|\n",
    "|SQ | SQUALL|\n",
    "|DR | LOW DRIFTING|\n",
    "|SH | SHOWER|\n",
    "|FZ | FREEZING|\n",
    "|MI | SHALLOW|\n",
    "|PR | PARTIAL|\n",
    "|BC | PATCHES|\n",
    "|BL | BLOWING|\n",
    "|VC | VICINITY|\n",
    "|- | LIGHT|\n",
    "|+ | HEAVY|\n",
    "|\"NO SIGN\" | MODERATE|\n",
    "\n",
    "`spray_df`\n",
    "\n",
    "Period: 2011, and 2013\n",
    "\n",
    "|Feature|Type|Description|\n",
    "|:---|:---:|:---|\n",
    "|<b>Date</b>|*object*|Date of the spray|\n",
    "|<b>Time</b>|*object*|Time of the spray|\n",
    "|<b>Latitude</b>|*float64*|Latitude returned from GeoCoder|\n",
    "|<b>Longitude</b>|*float64*|Longitude returned from GeoCoder|\n",
    "\n",
    "<br>"
   ]
  },
  {
   "cell_type": "markdown",
   "id": "2dbe82fe",
   "metadata": {},
   "source": [
    "<a id='imports'></a>"
   ]
  },
  {
   "cell_type": "markdown",
   "id": "a16d28d4",
   "metadata": {
    "tags": [
     "imports"
    ]
   },
   "source": [
    "## 3. Imports (Libraries)"
   ]
  },
  {
   "cell_type": "code",
   "execution_count": 2,
   "id": "c1701cdd",
   "metadata": {},
   "outputs": [],
   "source": [
    "# for cleaning\n",
    "\n",
    "import pandas as pd\n",
    "import numpy as np"
   ]
  },
  {
   "cell_type": "markdown",
   "id": "c48eade7",
   "metadata": {},
   "source": [
    "<a id='code'></a>"
   ]
  },
  {
   "cell_type": "markdown",
   "id": "a9f1d109",
   "metadata": {
    "tags": [
     "code"
    ]
   },
   "source": [
    "## 4. Code"
   ]
  },
  {
   "cell_type": "markdown",
   "id": "1a9517df",
   "metadata": {},
   "source": [
    "### 1. Load train and test datasets"
   ]
  },
  {
   "cell_type": "markdown",
   "id": "bbd6927c",
   "metadata": {},
   "source": [
    "The train.csv adn test.csv files were downloaded from https://www.kaggle.com/competitions/predict-west-nile-virus"
   ]
  },
  {
   "cell_type": "markdown",
   "id": "24df126c",
   "metadata": {},
   "source": [
    "#### Import Datasets"
   ]
  },
  {
   "cell_type": "code",
   "execution_count": 3,
   "id": "54a7e297",
   "metadata": {},
   "outputs": [],
   "source": [
    "train_df = pd.read_csv('../data/input/train.csv')\n",
    "test_df = pd.read_csv('../data/input/test.csv')\n",
    "weather_df = pd.read_csv('../data/input/weather.csv')\n",
    "spray_df = pd.read_csv('../data/input/spray.csv')"
   ]
  },
  {
   "cell_type": "markdown",
   "id": "454993bc",
   "metadata": {},
   "source": [
    "#### View full dataframe information"
   ]
  },
  {
   "cell_type": "code",
   "execution_count": 4,
   "id": "941f0520",
   "metadata": {},
   "outputs": [],
   "source": [
    "pd.set_option('display.max_colwidth',None)\n",
    "pd.set_option('display.max_columns',100)"
   ]
  },
  {
   "cell_type": "markdown",
   "id": "19e0134b",
   "metadata": {},
   "source": [
    "#### View Dataframes"
   ]
  },
  {
   "cell_type": "code",
   "execution_count": 5,
   "id": "89ae9d6c",
   "metadata": {},
   "outputs": [],
   "source": [
    "list_df = [train_df,test_df,weather_df,spray_df]\n",
    "list_df_name = ['train_df','test_df','weather_df','spray_df']"
   ]
  },
  {
   "cell_type": "code",
   "execution_count": 6,
   "id": "6e00b52e",
   "metadata": {
    "scrolled": true
   },
   "outputs": [
    {
     "name": "stdout",
     "output_type": "stream",
     "text": [
      "\n",
      "train_df\n"
     ]
    },
    {
     "data": {
      "text/html": [
       "<div>\n",
       "<style scoped>\n",
       "    .dataframe tbody tr th:only-of-type {\n",
       "        vertical-align: middle;\n",
       "    }\n",
       "\n",
       "    .dataframe tbody tr th {\n",
       "        vertical-align: top;\n",
       "    }\n",
       "\n",
       "    .dataframe thead th {\n",
       "        text-align: right;\n",
       "    }\n",
       "</style>\n",
       "<table border=\"1\" class=\"dataframe\">\n",
       "  <thead>\n",
       "    <tr style=\"text-align: right;\">\n",
       "      <th></th>\n",
       "      <th>Date</th>\n",
       "      <th>Address</th>\n",
       "      <th>Species</th>\n",
       "      <th>Block</th>\n",
       "      <th>Street</th>\n",
       "      <th>Trap</th>\n",
       "      <th>AddressNumberAndStreet</th>\n",
       "      <th>Latitude</th>\n",
       "      <th>Longitude</th>\n",
       "      <th>AddressAccuracy</th>\n",
       "      <th>NumMosquitos</th>\n",
       "      <th>WnvPresent</th>\n",
       "    </tr>\n",
       "  </thead>\n",
       "  <tbody>\n",
       "    <tr>\n",
       "      <th>0</th>\n",
       "      <td>2007-05-29</td>\n",
       "      <td>4100 North Oak Park Avenue, Chicago, IL 60634, USA</td>\n",
       "      <td>CULEX PIPIENS/RESTUANS</td>\n",
       "      <td>41</td>\n",
       "      <td>N OAK PARK AVE</td>\n",
       "      <td>T002</td>\n",
       "      <td>4100  N OAK PARK AVE, Chicago, IL</td>\n",
       "      <td>41.954690</td>\n",
       "      <td>-87.800991</td>\n",
       "      <td>9</td>\n",
       "      <td>1</td>\n",
       "      <td>0</td>\n",
       "    </tr>\n",
       "    <tr>\n",
       "      <th>1</th>\n",
       "      <td>2007-05-29</td>\n",
       "      <td>4100 North Oak Park Avenue, Chicago, IL 60634, USA</td>\n",
       "      <td>CULEX RESTUANS</td>\n",
       "      <td>41</td>\n",
       "      <td>N OAK PARK AVE</td>\n",
       "      <td>T002</td>\n",
       "      <td>4100  N OAK PARK AVE, Chicago, IL</td>\n",
       "      <td>41.954690</td>\n",
       "      <td>-87.800991</td>\n",
       "      <td>9</td>\n",
       "      <td>1</td>\n",
       "      <td>0</td>\n",
       "    </tr>\n",
       "    <tr>\n",
       "      <th>2</th>\n",
       "      <td>2007-05-29</td>\n",
       "      <td>6200 North Mandell Avenue, Chicago, IL 60646, USA</td>\n",
       "      <td>CULEX RESTUANS</td>\n",
       "      <td>62</td>\n",
       "      <td>N MANDELL AVE</td>\n",
       "      <td>T007</td>\n",
       "      <td>6200  N MANDELL AVE, Chicago, IL</td>\n",
       "      <td>41.994991</td>\n",
       "      <td>-87.769279</td>\n",
       "      <td>9</td>\n",
       "      <td>1</td>\n",
       "      <td>0</td>\n",
       "    </tr>\n",
       "    <tr>\n",
       "      <th>3</th>\n",
       "      <td>2007-05-29</td>\n",
       "      <td>7900 West Foster Avenue, Chicago, IL 60656, USA</td>\n",
       "      <td>CULEX PIPIENS/RESTUANS</td>\n",
       "      <td>79</td>\n",
       "      <td>W FOSTER AVE</td>\n",
       "      <td>T015</td>\n",
       "      <td>7900  W FOSTER AVE, Chicago, IL</td>\n",
       "      <td>41.974089</td>\n",
       "      <td>-87.824812</td>\n",
       "      <td>8</td>\n",
       "      <td>1</td>\n",
       "      <td>0</td>\n",
       "    </tr>\n",
       "    <tr>\n",
       "      <th>4</th>\n",
       "      <td>2007-05-29</td>\n",
       "      <td>7900 West Foster Avenue, Chicago, IL 60656, USA</td>\n",
       "      <td>CULEX RESTUANS</td>\n",
       "      <td>79</td>\n",
       "      <td>W FOSTER AVE</td>\n",
       "      <td>T015</td>\n",
       "      <td>7900  W FOSTER AVE, Chicago, IL</td>\n",
       "      <td>41.974089</td>\n",
       "      <td>-87.824812</td>\n",
       "      <td>8</td>\n",
       "      <td>4</td>\n",
       "      <td>0</td>\n",
       "    </tr>\n",
       "  </tbody>\n",
       "</table>\n",
       "</div>"
      ],
      "text/plain": [
       "         Date                                             Address  \\\n",
       "0  2007-05-29  4100 North Oak Park Avenue, Chicago, IL 60634, USA   \n",
       "1  2007-05-29  4100 North Oak Park Avenue, Chicago, IL 60634, USA   \n",
       "2  2007-05-29   6200 North Mandell Avenue, Chicago, IL 60646, USA   \n",
       "3  2007-05-29     7900 West Foster Avenue, Chicago, IL 60656, USA   \n",
       "4  2007-05-29     7900 West Foster Avenue, Chicago, IL 60656, USA   \n",
       "\n",
       "                  Species  Block           Street  Trap  \\\n",
       "0  CULEX PIPIENS/RESTUANS     41   N OAK PARK AVE  T002   \n",
       "1          CULEX RESTUANS     41   N OAK PARK AVE  T002   \n",
       "2          CULEX RESTUANS     62    N MANDELL AVE  T007   \n",
       "3  CULEX PIPIENS/RESTUANS     79     W FOSTER AVE  T015   \n",
       "4          CULEX RESTUANS     79     W FOSTER AVE  T015   \n",
       "\n",
       "              AddressNumberAndStreet   Latitude  Longitude  AddressAccuracy  \\\n",
       "0  4100  N OAK PARK AVE, Chicago, IL  41.954690 -87.800991                9   \n",
       "1  4100  N OAK PARK AVE, Chicago, IL  41.954690 -87.800991                9   \n",
       "2   6200  N MANDELL AVE, Chicago, IL  41.994991 -87.769279                9   \n",
       "3    7900  W FOSTER AVE, Chicago, IL  41.974089 -87.824812                8   \n",
       "4    7900  W FOSTER AVE, Chicago, IL  41.974089 -87.824812                8   \n",
       "\n",
       "   NumMosquitos  WnvPresent  \n",
       "0             1           0  \n",
       "1             1           0  \n",
       "2             1           0  \n",
       "3             1           0  \n",
       "4             4           0  "
      ]
     },
     "metadata": {},
     "output_type": "display_data"
    },
    {
     "name": "stdout",
     "output_type": "stream",
     "text": [
      "\n",
      "test_df\n"
     ]
    },
    {
     "data": {
      "text/html": [
       "<div>\n",
       "<style scoped>\n",
       "    .dataframe tbody tr th:only-of-type {\n",
       "        vertical-align: middle;\n",
       "    }\n",
       "\n",
       "    .dataframe tbody tr th {\n",
       "        vertical-align: top;\n",
       "    }\n",
       "\n",
       "    .dataframe thead th {\n",
       "        text-align: right;\n",
       "    }\n",
       "</style>\n",
       "<table border=\"1\" class=\"dataframe\">\n",
       "  <thead>\n",
       "    <tr style=\"text-align: right;\">\n",
       "      <th></th>\n",
       "      <th>Id</th>\n",
       "      <th>Date</th>\n",
       "      <th>Address</th>\n",
       "      <th>Species</th>\n",
       "      <th>Block</th>\n",
       "      <th>Street</th>\n",
       "      <th>Trap</th>\n",
       "      <th>AddressNumberAndStreet</th>\n",
       "      <th>Latitude</th>\n",
       "      <th>Longitude</th>\n",
       "      <th>AddressAccuracy</th>\n",
       "    </tr>\n",
       "  </thead>\n",
       "  <tbody>\n",
       "    <tr>\n",
       "      <th>0</th>\n",
       "      <td>1</td>\n",
       "      <td>2008-06-11</td>\n",
       "      <td>4100 North Oak Park Avenue, Chicago, IL 60634, USA</td>\n",
       "      <td>CULEX PIPIENS/RESTUANS</td>\n",
       "      <td>41</td>\n",
       "      <td>N OAK PARK AVE</td>\n",
       "      <td>T002</td>\n",
       "      <td>4100  N OAK PARK AVE, Chicago, IL</td>\n",
       "      <td>41.95469</td>\n",
       "      <td>-87.800991</td>\n",
       "      <td>9</td>\n",
       "    </tr>\n",
       "    <tr>\n",
       "      <th>1</th>\n",
       "      <td>2</td>\n",
       "      <td>2008-06-11</td>\n",
       "      <td>4100 North Oak Park Avenue, Chicago, IL 60634, USA</td>\n",
       "      <td>CULEX RESTUANS</td>\n",
       "      <td>41</td>\n",
       "      <td>N OAK PARK AVE</td>\n",
       "      <td>T002</td>\n",
       "      <td>4100  N OAK PARK AVE, Chicago, IL</td>\n",
       "      <td>41.95469</td>\n",
       "      <td>-87.800991</td>\n",
       "      <td>9</td>\n",
       "    </tr>\n",
       "    <tr>\n",
       "      <th>2</th>\n",
       "      <td>3</td>\n",
       "      <td>2008-06-11</td>\n",
       "      <td>4100 North Oak Park Avenue, Chicago, IL 60634, USA</td>\n",
       "      <td>CULEX PIPIENS</td>\n",
       "      <td>41</td>\n",
       "      <td>N OAK PARK AVE</td>\n",
       "      <td>T002</td>\n",
       "      <td>4100  N OAK PARK AVE, Chicago, IL</td>\n",
       "      <td>41.95469</td>\n",
       "      <td>-87.800991</td>\n",
       "      <td>9</td>\n",
       "    </tr>\n",
       "    <tr>\n",
       "      <th>3</th>\n",
       "      <td>4</td>\n",
       "      <td>2008-06-11</td>\n",
       "      <td>4100 North Oak Park Avenue, Chicago, IL 60634, USA</td>\n",
       "      <td>CULEX SALINARIUS</td>\n",
       "      <td>41</td>\n",
       "      <td>N OAK PARK AVE</td>\n",
       "      <td>T002</td>\n",
       "      <td>4100  N OAK PARK AVE, Chicago, IL</td>\n",
       "      <td>41.95469</td>\n",
       "      <td>-87.800991</td>\n",
       "      <td>9</td>\n",
       "    </tr>\n",
       "    <tr>\n",
       "      <th>4</th>\n",
       "      <td>5</td>\n",
       "      <td>2008-06-11</td>\n",
       "      <td>4100 North Oak Park Avenue, Chicago, IL 60634, USA</td>\n",
       "      <td>CULEX TERRITANS</td>\n",
       "      <td>41</td>\n",
       "      <td>N OAK PARK AVE</td>\n",
       "      <td>T002</td>\n",
       "      <td>4100  N OAK PARK AVE, Chicago, IL</td>\n",
       "      <td>41.95469</td>\n",
       "      <td>-87.800991</td>\n",
       "      <td>9</td>\n",
       "    </tr>\n",
       "  </tbody>\n",
       "</table>\n",
       "</div>"
      ],
      "text/plain": [
       "   Id        Date                                             Address  \\\n",
       "0   1  2008-06-11  4100 North Oak Park Avenue, Chicago, IL 60634, USA   \n",
       "1   2  2008-06-11  4100 North Oak Park Avenue, Chicago, IL 60634, USA   \n",
       "2   3  2008-06-11  4100 North Oak Park Avenue, Chicago, IL 60634, USA   \n",
       "3   4  2008-06-11  4100 North Oak Park Avenue, Chicago, IL 60634, USA   \n",
       "4   5  2008-06-11  4100 North Oak Park Avenue, Chicago, IL 60634, USA   \n",
       "\n",
       "                  Species  Block           Street  Trap  \\\n",
       "0  CULEX PIPIENS/RESTUANS     41   N OAK PARK AVE  T002   \n",
       "1          CULEX RESTUANS     41   N OAK PARK AVE  T002   \n",
       "2           CULEX PIPIENS     41   N OAK PARK AVE  T002   \n",
       "3        CULEX SALINARIUS     41   N OAK PARK AVE  T002   \n",
       "4         CULEX TERRITANS     41   N OAK PARK AVE  T002   \n",
       "\n",
       "              AddressNumberAndStreet  Latitude  Longitude  AddressAccuracy  \n",
       "0  4100  N OAK PARK AVE, Chicago, IL  41.95469 -87.800991                9  \n",
       "1  4100  N OAK PARK AVE, Chicago, IL  41.95469 -87.800991                9  \n",
       "2  4100  N OAK PARK AVE, Chicago, IL  41.95469 -87.800991                9  \n",
       "3  4100  N OAK PARK AVE, Chicago, IL  41.95469 -87.800991                9  \n",
       "4  4100  N OAK PARK AVE, Chicago, IL  41.95469 -87.800991                9  "
      ]
     },
     "metadata": {},
     "output_type": "display_data"
    },
    {
     "name": "stdout",
     "output_type": "stream",
     "text": [
      "\n",
      "weather_df\n"
     ]
    },
    {
     "data": {
      "text/html": [
       "<div>\n",
       "<style scoped>\n",
       "    .dataframe tbody tr th:only-of-type {\n",
       "        vertical-align: middle;\n",
       "    }\n",
       "\n",
       "    .dataframe tbody tr th {\n",
       "        vertical-align: top;\n",
       "    }\n",
       "\n",
       "    .dataframe thead th {\n",
       "        text-align: right;\n",
       "    }\n",
       "</style>\n",
       "<table border=\"1\" class=\"dataframe\">\n",
       "  <thead>\n",
       "    <tr style=\"text-align: right;\">\n",
       "      <th></th>\n",
       "      <th>Station</th>\n",
       "      <th>Date</th>\n",
       "      <th>Tmax</th>\n",
       "      <th>Tmin</th>\n",
       "      <th>Tavg</th>\n",
       "      <th>Depart</th>\n",
       "      <th>DewPoint</th>\n",
       "      <th>WetBulb</th>\n",
       "      <th>Heat</th>\n",
       "      <th>Cool</th>\n",
       "      <th>Sunrise</th>\n",
       "      <th>Sunset</th>\n",
       "      <th>CodeSum</th>\n",
       "      <th>Depth</th>\n",
       "      <th>Water1</th>\n",
       "      <th>SnowFall</th>\n",
       "      <th>PrecipTotal</th>\n",
       "      <th>StnPressure</th>\n",
       "      <th>SeaLevel</th>\n",
       "      <th>ResultSpeed</th>\n",
       "      <th>ResultDir</th>\n",
       "      <th>AvgSpeed</th>\n",
       "    </tr>\n",
       "  </thead>\n",
       "  <tbody>\n",
       "    <tr>\n",
       "      <th>0</th>\n",
       "      <td>1</td>\n",
       "      <td>2007-05-01</td>\n",
       "      <td>83</td>\n",
       "      <td>50</td>\n",
       "      <td>67</td>\n",
       "      <td>14</td>\n",
       "      <td>51</td>\n",
       "      <td>56</td>\n",
       "      <td>0</td>\n",
       "      <td>2</td>\n",
       "      <td>0448</td>\n",
       "      <td>1849</td>\n",
       "      <td></td>\n",
       "      <td>0</td>\n",
       "      <td>M</td>\n",
       "      <td>0.0</td>\n",
       "      <td>0.00</td>\n",
       "      <td>29.10</td>\n",
       "      <td>29.82</td>\n",
       "      <td>1.7</td>\n",
       "      <td>27</td>\n",
       "      <td>9.2</td>\n",
       "    </tr>\n",
       "    <tr>\n",
       "      <th>1</th>\n",
       "      <td>2</td>\n",
       "      <td>2007-05-01</td>\n",
       "      <td>84</td>\n",
       "      <td>52</td>\n",
       "      <td>68</td>\n",
       "      <td>M</td>\n",
       "      <td>51</td>\n",
       "      <td>57</td>\n",
       "      <td>0</td>\n",
       "      <td>3</td>\n",
       "      <td>-</td>\n",
       "      <td>-</td>\n",
       "      <td></td>\n",
       "      <td>M</td>\n",
       "      <td>M</td>\n",
       "      <td>M</td>\n",
       "      <td>0.00</td>\n",
       "      <td>29.18</td>\n",
       "      <td>29.82</td>\n",
       "      <td>2.7</td>\n",
       "      <td>25</td>\n",
       "      <td>9.6</td>\n",
       "    </tr>\n",
       "    <tr>\n",
       "      <th>2</th>\n",
       "      <td>1</td>\n",
       "      <td>2007-05-02</td>\n",
       "      <td>59</td>\n",
       "      <td>42</td>\n",
       "      <td>51</td>\n",
       "      <td>-3</td>\n",
       "      <td>42</td>\n",
       "      <td>47</td>\n",
       "      <td>14</td>\n",
       "      <td>0</td>\n",
       "      <td>0447</td>\n",
       "      <td>1850</td>\n",
       "      <td>BR</td>\n",
       "      <td>0</td>\n",
       "      <td>M</td>\n",
       "      <td>0.0</td>\n",
       "      <td>0.00</td>\n",
       "      <td>29.38</td>\n",
       "      <td>30.09</td>\n",
       "      <td>13.0</td>\n",
       "      <td>4</td>\n",
       "      <td>13.4</td>\n",
       "    </tr>\n",
       "    <tr>\n",
       "      <th>3</th>\n",
       "      <td>2</td>\n",
       "      <td>2007-05-02</td>\n",
       "      <td>60</td>\n",
       "      <td>43</td>\n",
       "      <td>52</td>\n",
       "      <td>M</td>\n",
       "      <td>42</td>\n",
       "      <td>47</td>\n",
       "      <td>13</td>\n",
       "      <td>0</td>\n",
       "      <td>-</td>\n",
       "      <td>-</td>\n",
       "      <td>BR HZ</td>\n",
       "      <td>M</td>\n",
       "      <td>M</td>\n",
       "      <td>M</td>\n",
       "      <td>0.00</td>\n",
       "      <td>29.44</td>\n",
       "      <td>30.08</td>\n",
       "      <td>13.3</td>\n",
       "      <td>2</td>\n",
       "      <td>13.4</td>\n",
       "    </tr>\n",
       "    <tr>\n",
       "      <th>4</th>\n",
       "      <td>1</td>\n",
       "      <td>2007-05-03</td>\n",
       "      <td>66</td>\n",
       "      <td>46</td>\n",
       "      <td>56</td>\n",
       "      <td>2</td>\n",
       "      <td>40</td>\n",
       "      <td>48</td>\n",
       "      <td>9</td>\n",
       "      <td>0</td>\n",
       "      <td>0446</td>\n",
       "      <td>1851</td>\n",
       "      <td></td>\n",
       "      <td>0</td>\n",
       "      <td>M</td>\n",
       "      <td>0.0</td>\n",
       "      <td>0.00</td>\n",
       "      <td>29.39</td>\n",
       "      <td>30.12</td>\n",
       "      <td>11.7</td>\n",
       "      <td>7</td>\n",
       "      <td>11.9</td>\n",
       "    </tr>\n",
       "  </tbody>\n",
       "</table>\n",
       "</div>"
      ],
      "text/plain": [
       "   Station        Date  Tmax  Tmin Tavg Depart  DewPoint WetBulb Heat Cool  \\\n",
       "0        1  2007-05-01    83    50   67     14        51      56    0    2   \n",
       "1        2  2007-05-01    84    52   68      M        51      57    0    3   \n",
       "2        1  2007-05-02    59    42   51     -3        42      47   14    0   \n",
       "3        2  2007-05-02    60    43   52      M        42      47   13    0   \n",
       "4        1  2007-05-03    66    46   56      2        40      48    9    0   \n",
       "\n",
       "  Sunrise Sunset CodeSum Depth Water1 SnowFall PrecipTotal StnPressure  \\\n",
       "0    0448   1849             0      M      0.0        0.00       29.10   \n",
       "1       -      -             M      M        M        0.00       29.18   \n",
       "2    0447   1850      BR     0      M      0.0        0.00       29.38   \n",
       "3       -      -   BR HZ     M      M        M        0.00       29.44   \n",
       "4    0446   1851             0      M      0.0        0.00       29.39   \n",
       "\n",
       "  SeaLevel  ResultSpeed  ResultDir AvgSpeed  \n",
       "0    29.82          1.7         27      9.2  \n",
       "1    29.82          2.7         25      9.6  \n",
       "2    30.09         13.0          4     13.4  \n",
       "3    30.08         13.3          2     13.4  \n",
       "4    30.12         11.7          7     11.9  "
      ]
     },
     "metadata": {},
     "output_type": "display_data"
    },
    {
     "name": "stdout",
     "output_type": "stream",
     "text": [
      "\n",
      "spray_df\n"
     ]
    },
    {
     "data": {
      "text/html": [
       "<div>\n",
       "<style scoped>\n",
       "    .dataframe tbody tr th:only-of-type {\n",
       "        vertical-align: middle;\n",
       "    }\n",
       "\n",
       "    .dataframe tbody tr th {\n",
       "        vertical-align: top;\n",
       "    }\n",
       "\n",
       "    .dataframe thead th {\n",
       "        text-align: right;\n",
       "    }\n",
       "</style>\n",
       "<table border=\"1\" class=\"dataframe\">\n",
       "  <thead>\n",
       "    <tr style=\"text-align: right;\">\n",
       "      <th></th>\n",
       "      <th>Date</th>\n",
       "      <th>Time</th>\n",
       "      <th>Latitude</th>\n",
       "      <th>Longitude</th>\n",
       "    </tr>\n",
       "  </thead>\n",
       "  <tbody>\n",
       "    <tr>\n",
       "      <th>0</th>\n",
       "      <td>2011-08-29</td>\n",
       "      <td>6:56:58 PM</td>\n",
       "      <td>42.391623</td>\n",
       "      <td>-88.089163</td>\n",
       "    </tr>\n",
       "    <tr>\n",
       "      <th>1</th>\n",
       "      <td>2011-08-29</td>\n",
       "      <td>6:57:08 PM</td>\n",
       "      <td>42.391348</td>\n",
       "      <td>-88.089163</td>\n",
       "    </tr>\n",
       "    <tr>\n",
       "      <th>2</th>\n",
       "      <td>2011-08-29</td>\n",
       "      <td>6:57:18 PM</td>\n",
       "      <td>42.391022</td>\n",
       "      <td>-88.089157</td>\n",
       "    </tr>\n",
       "    <tr>\n",
       "      <th>3</th>\n",
       "      <td>2011-08-29</td>\n",
       "      <td>6:57:28 PM</td>\n",
       "      <td>42.390637</td>\n",
       "      <td>-88.089158</td>\n",
       "    </tr>\n",
       "    <tr>\n",
       "      <th>4</th>\n",
       "      <td>2011-08-29</td>\n",
       "      <td>6:57:38 PM</td>\n",
       "      <td>42.390410</td>\n",
       "      <td>-88.088858</td>\n",
       "    </tr>\n",
       "  </tbody>\n",
       "</table>\n",
       "</div>"
      ],
      "text/plain": [
       "         Date        Time   Latitude  Longitude\n",
       "0  2011-08-29  6:56:58 PM  42.391623 -88.089163\n",
       "1  2011-08-29  6:57:08 PM  42.391348 -88.089163\n",
       "2  2011-08-29  6:57:18 PM  42.391022 -88.089157\n",
       "3  2011-08-29  6:57:28 PM  42.390637 -88.089158\n",
       "4  2011-08-29  6:57:38 PM  42.390410 -88.088858"
      ]
     },
     "metadata": {},
     "output_type": "display_data"
    }
   ],
   "source": [
    "for i in range(len(list_df)):\n",
    "    print()\n",
    "    print(list_df_name[i])\n",
    "    display(list_df[i].head())"
   ]
  },
  {
   "cell_type": "code",
   "execution_count": 11,
   "id": "be1d93cf",
   "metadata": {},
   "outputs": [
    {
     "name": "stdout",
     "output_type": "stream",
     "text": [
      "<class 'pandas.core.frame.DataFrame'>\n",
      "RangeIndex: 14835 entries, 0 to 14834\n",
      "Data columns (total 4 columns):\n",
      " #   Column     Non-Null Count  Dtype  \n",
      "---  ------     --------------  -----  \n",
      " 0   Date       14835 non-null  object \n",
      " 1   Time       14251 non-null  object \n",
      " 2   Latitude   14835 non-null  float64\n",
      " 3   Longitude  14835 non-null  float64\n",
      "dtypes: float64(2), object(2)\n",
      "memory usage: 463.7+ KB\n"
     ]
    }
   ],
   "source": [
    "spray_df.info()"
   ]
  },
  {
   "cell_type": "markdown",
   "id": "22413edf",
   "metadata": {},
   "source": [
    "Check null values"
   ]
  },
  {
   "cell_type": "code",
   "execution_count": 9,
   "id": "26249caf",
   "metadata": {
    "scrolled": true
   },
   "outputs": [
    {
     "name": "stdout",
     "output_type": "stream",
     "text": [
      "\n",
      "train_df\n",
      "Date                      0\n",
      "Address                   0\n",
      "Species                   0\n",
      "Block                     0\n",
      "Street                    0\n",
      "Trap                      0\n",
      "AddressNumberAndStreet    0\n",
      "Latitude                  0\n",
      "Longitude                 0\n",
      "AddressAccuracy           0\n",
      "NumMosquitos              0\n",
      "WnvPresent                0\n",
      "dtype: int64\n",
      "\n",
      "test_df\n",
      "Id                        0\n",
      "Date                      0\n",
      "Address                   0\n",
      "Species                   0\n",
      "Block                     0\n",
      "Street                    0\n",
      "Trap                      0\n",
      "AddressNumberAndStreet    0\n",
      "Latitude                  0\n",
      "Longitude                 0\n",
      "AddressAccuracy           0\n",
      "dtype: int64\n",
      "\n",
      "weather_df\n",
      "Station        0\n",
      "Date           0\n",
      "Tmax           0\n",
      "Tmin           0\n",
      "Tavg           0\n",
      "Depart         0\n",
      "DewPoint       0\n",
      "WetBulb        0\n",
      "Heat           0\n",
      "Cool           0\n",
      "Sunrise        0\n",
      "Sunset         0\n",
      "CodeSum        0\n",
      "Depth          0\n",
      "Water1         0\n",
      "SnowFall       0\n",
      "PrecipTotal    0\n",
      "StnPressure    0\n",
      "SeaLevel       0\n",
      "ResultSpeed    0\n",
      "ResultDir      0\n",
      "AvgSpeed       0\n",
      "dtype: int64\n",
      "\n",
      "spray_df\n",
      "Date           0\n",
      "Time         584\n",
      "Latitude       0\n",
      "Longitude      0\n",
      "dtype: int64\n"
     ]
    }
   ],
   "source": [
    "for i in range(len(list_df)):\n",
    "    print()\n",
    "    print(list_df_name[i])\n",
    "    print(list_df[i].isnull().sum())"
   ]
  },
  {
   "cell_type": "markdown",
   "id": "1cc427c3",
   "metadata": {},
   "source": [
    "584 null values found in `Time` column of `spray_df`. Considering that this constitutes a minor fraction of the overall data present in `spray_df`, subsequent course of action would involve either removing the rows with null values or entirely discarding the column if it is deemed uninformative for future analysis."
   ]
  },
  {
   "cell_type": "markdown",
   "id": "d05ec2c9",
   "metadata": {},
   "source": [
    "#### Check for missing values 'M', trace values 'T' and '-' in `weather_df`"
   ]
  },
  {
   "cell_type": "code",
   "execution_count": 9,
   "id": "ed5ce266",
   "metadata": {},
   "outputs": [],
   "source": [
    "# convert weather_df 'Date' to datetime\n",
    "weather_df['Date'] = pd.to_datetime(weather_df['Date'])"
   ]
  },
  {
   "cell_type": "code",
   "execution_count": 10,
   "id": "8458d77d",
   "metadata": {},
   "outputs": [],
   "source": [
    "# set index as 'Date'\n",
    "weather_df = weather_df.set_index('Date')\n",
    "# ensure data is sorted by 'Date'\n",
    "weather_df = weather_df.sort_index()"
   ]
  },
  {
   "cell_type": "code",
   "execution_count": 11,
   "id": "3e7d709b",
   "metadata": {
    "scrolled": false
   },
   "outputs": [
    {
     "data": {
      "text/plain": [
       "Station           0\n",
       "Tmax              0\n",
       "Tmin              0\n",
       "Tavg             11\n",
       "Depart         1472\n",
       "DewPoint          0\n",
       "WetBulb           4\n",
       "Heat             11\n",
       "Cool             11\n",
       "Sunrise           0\n",
       "Sunset            0\n",
       "CodeSum           0\n",
       "Depth          1472\n",
       "Water1         2944\n",
       "SnowFall       1472\n",
       "PrecipTotal       2\n",
       "StnPressure       4\n",
       "SeaLevel          9\n",
       "ResultSpeed       0\n",
       "ResultDir         0\n",
       "AvgSpeed          3\n",
       "dtype: int64"
      ]
     },
     "execution_count": 11,
     "metadata": {},
     "output_type": "execute_result"
    }
   ],
   "source": [
    "weather_df[weather_df=='M'].count()"
   ]
  },
  {
   "cell_type": "code",
   "execution_count": 12,
   "id": "86530c86",
   "metadata": {
    "scrolled": false
   },
   "outputs": [
    {
     "data": {
      "text/plain": [
       "Station           0\n",
       "Tmax              0\n",
       "Tmin              0\n",
       "Tavg              0\n",
       "Depart            0\n",
       "DewPoint          0\n",
       "WetBulb           0\n",
       "Heat              0\n",
       "Cool              0\n",
       "Sunrise        1472\n",
       "Sunset         1472\n",
       "CodeSum           0\n",
       "Depth             0\n",
       "Water1            0\n",
       "SnowFall          0\n",
       "PrecipTotal       0\n",
       "StnPressure       0\n",
       "SeaLevel          0\n",
       "ResultSpeed       0\n",
       "ResultDir         0\n",
       "AvgSpeed          0\n",
       "dtype: int64"
      ]
     },
     "execution_count": 12,
     "metadata": {},
     "output_type": "execute_result"
    }
   ],
   "source": [
    "weather_df[weather_df=='-'].count()"
   ]
  },
  {
   "cell_type": "markdown",
   "id": "937ca969",
   "metadata": {},
   "source": [
    "#### Fill rows containing 'M' (missing) and '-' with data found from other station"
   ]
  },
  {
   "cell_type": "code",
   "execution_count": 13,
   "id": "c896f4a4",
   "metadata": {},
   "outputs": [],
   "source": [
    "# change 'M' and '-' values to NaN\n",
    "list_m = ['Tavg','PrecipTotal','WetBulb','Depart','Depth', 'SnowFall','StnPressure'] \n",
    "list_missing = ['Sunrise','Sunset']\n",
    "for i in list_m:\n",
    "    weather_df[i] = weather_df[i].replace('M', np.NaN)\n",
    "for j in list_missing:\n",
    "     weather_df[j] = weather_df[j].replace('-', np.NaN)"
   ]
  },
  {
   "cell_type": "code",
   "execution_count": 14,
   "id": "fa27e0df",
   "metadata": {
    "scrolled": true
   },
   "outputs": [
    {
     "data": {
      "text/plain": [
       "Station           0\n",
       "Tmax              0\n",
       "Tmin              0\n",
       "Tavg             11\n",
       "Depart         1472\n",
       "DewPoint          0\n",
       "WetBulb           4\n",
       "Heat              0\n",
       "Cool              0\n",
       "Sunrise        1472\n",
       "Sunset         1472\n",
       "CodeSum           0\n",
       "Depth          1472\n",
       "Water1            0\n",
       "SnowFall       1472\n",
       "PrecipTotal       2\n",
       "StnPressure       4\n",
       "SeaLevel          0\n",
       "ResultSpeed       0\n",
       "ResultDir         0\n",
       "AvgSpeed          0\n",
       "dtype: int64"
      ]
     },
     "execution_count": 14,
     "metadata": {},
     "output_type": "execute_result"
    }
   ],
   "source": [
    "weather_df.isnull().sum()"
   ]
  },
  {
   "cell_type": "code",
   "execution_count": 15,
   "id": "d33246f5",
   "metadata": {},
   "outputs": [],
   "source": [
    "# try to fill missing values from the other station\n",
    "\n",
    "# reset index\n",
    "weather_df = weather_df.reset_index()\n",
    "\n",
    "for column in list_m:\n",
    "    for index, row in weather_df.iterrows():\n",
    "        if pd.isna(row[column]) and row['Station'] == 1:\n",
    "            weather_df.at[index, column] = weather_df.at[index + 1, column]\n",
    "        elif pd.isna(row[column]) and row['Station'] == 2:\n",
    "            weather_df.at[index, column] = weather_df.at[index - 1, column]\n",
    "            \n",
    "for column in list_missing:\n",
    "    for index, row in weather_df.iterrows():\n",
    "        if pd.isna(row[column]) and row['Station'] == 1:\n",
    "            weather_df.at[index, column] = weather_df.at[index + 1, column]\n",
    "        elif pd.isna(row[column]) and row['Station'] == 2:\n",
    "            weather_df.at[index, column] = weather_df.at[index - 1, column]\n",
    "\n",
    "# set index as 'Date'\n",
    "weather_df = weather_df.set_index('Date')\n",
    "# ensure data is sorted by 'Date'\n",
    "weather_df = weather_df.sort_index()"
   ]
  },
  {
   "cell_type": "code",
   "execution_count": 16,
   "id": "73128a0c",
   "metadata": {},
   "outputs": [
    {
     "data": {
      "text/plain": [
       "Station        0\n",
       "Tmax           0\n",
       "Tmin           0\n",
       "Tavg           0\n",
       "Depart         0\n",
       "DewPoint       0\n",
       "WetBulb        0\n",
       "Heat           0\n",
       "Cool           0\n",
       "Sunrise        0\n",
       "Sunset         0\n",
       "CodeSum        0\n",
       "Depth          0\n",
       "Water1         0\n",
       "SnowFall       0\n",
       "PrecipTotal    0\n",
       "StnPressure    2\n",
       "SeaLevel       0\n",
       "ResultSpeed    0\n",
       "ResultDir      0\n",
       "AvgSpeed       0\n",
       "dtype: int64"
      ]
     },
     "execution_count": 16,
     "metadata": {},
     "output_type": "execute_result"
    }
   ],
   "source": [
    "weather_df.isnull().sum()"
   ]
  },
  {
   "cell_type": "markdown",
   "id": "510a8a35",
   "metadata": {},
   "source": [
    "#### Fill rows that are still missing using forward fill"
   ]
  },
  {
   "cell_type": "code",
   "execution_count": 17,
   "id": "b911a6f0",
   "metadata": {},
   "outputs": [],
   "source": [
    "# forward fill using ffill\n",
    "weather_df = weather_df.ffill(axis=0)"
   ]
  },
  {
   "cell_type": "code",
   "execution_count": 18,
   "id": "ee3dc989",
   "metadata": {
    "scrolled": true
   },
   "outputs": [
    {
     "data": {
      "text/plain": [
       "Station        0\n",
       "Tmax           0\n",
       "Tmin           0\n",
       "Tavg           0\n",
       "Depart         0\n",
       "DewPoint       0\n",
       "WetBulb        0\n",
       "Heat           0\n",
       "Cool           0\n",
       "Sunrise        0\n",
       "Sunset         0\n",
       "CodeSum        0\n",
       "Depth          0\n",
       "Water1         0\n",
       "SnowFall       0\n",
       "PrecipTotal    0\n",
       "StnPressure    0\n",
       "SeaLevel       0\n",
       "ResultSpeed    0\n",
       "ResultDir      0\n",
       "AvgSpeed       0\n",
       "dtype: int64"
      ]
     },
     "execution_count": 18,
     "metadata": {},
     "output_type": "execute_result"
    }
   ],
   "source": [
    "weather_df.isnull().sum()"
   ]
  },
  {
   "cell_type": "markdown",
   "id": "67eedc11",
   "metadata": {},
   "source": [
    "Convert '  T' trace to a numerical value"
   ]
  },
  {
   "cell_type": "code",
   "execution_count": 19,
   "id": "23ca6cbc",
   "metadata": {
    "scrolled": true
   },
   "outputs": [
    {
     "data": {
      "text/plain": [
       "Station          0\n",
       "Tmax             0\n",
       "Tmin             0\n",
       "Tavg             0\n",
       "Depart           0\n",
       "DewPoint         0\n",
       "WetBulb          0\n",
       "Heat             0\n",
       "Cool             0\n",
       "Sunrise          0\n",
       "Sunset           0\n",
       "CodeSum          0\n",
       "Depth            0\n",
       "Water1           0\n",
       "SnowFall        24\n",
       "PrecipTotal    318\n",
       "StnPressure      0\n",
       "SeaLevel         0\n",
       "ResultSpeed      0\n",
       "ResultDir        0\n",
       "AvgSpeed         0\n",
       "dtype: int64"
      ]
     },
     "execution_count": 19,
     "metadata": {},
     "output_type": "execute_result"
    }
   ],
   "source": [
    "weather_df[weather_df=='  T'].count()"
   ]
  },
  {
   "cell_type": "code",
   "execution_count": 20,
   "id": "360a8bc0",
   "metadata": {},
   "outputs": [
    {
     "data": {
      "text/plain": [
       "array(['0.00', '  T', '0.13', '0.02', '0.38', '0.60', '0.14', '0.07',\n",
       "       '0.11', '0.09', '1.01', '0.28', '0.04', '0.08', '0.01', '0.53',\n",
       "       '0.19', '0.21', '0.32', '0.39', '0.31', '0.42', '0.27', '0.16',\n",
       "       '0.58', '0.93', '0.05', '0.34', '0.15', '0.35', '0.40', '0.66',\n",
       "       '0.30', '0.24', '0.43', '1.55', '0.92', '0.89', '0.17', '0.03',\n",
       "       '1.43', '0.97', '0.26', '1.31', '0.06', '0.46', '0.29', '0.23',\n",
       "       '0.41', '0.45', '0.83', '1.33', '0.91', '0.48', '0.37', '0.88',\n",
       "       '2.35', '1.96', '0.20', '0.25', '0.18', '0.67', '0.36', '0.33',\n",
       "       '1.28', '0.74', '0.76', '0.71', '0.95', '1.46', '0.12', '0.52',\n",
       "       '0.64', '0.22', '1.24', '0.72', '0.73', '0.65', '1.61', '1.22',\n",
       "       '0.50', '1.05', '2.43', '0.59', '2.90', '2.68', '1.23', '0.62',\n",
       "       '6.64', '3.07', '1.44', '1.75', '0.82', '0.80', '0.86', '0.63',\n",
       "       '0.55', '1.03', '0.70', '1.73', '1.38', '0.44', '1.14', '1.07',\n",
       "       '3.97', '0.87', '0.78', '1.12', '0.68', '0.10', '0.61', '0.54',\n",
       "       '1.19', '0.75', '0.84', '1.29', '0.81', '1.15', '1.49', '1.57',\n",
       "       '1.02', '1.30', '0.51', '0.85', '0.79', '0.77', '2.79', '3.15',\n",
       "       '3.64', '4.73', '1.60', '0.57', '2.24', '1.90', '1.06', '1.88',\n",
       "       '0.69', '2.17', '6.86', '0.49', '1.11', '1.21', '0.90', '1.34',\n",
       "       '0.47', '0.56', '3.66', '1.09', '1.25', '1.35', '2.20', '1.48',\n",
       "       '0.96', '1.16', '1.04', '2.03', '2.09', '1.26', '2.60', '2.06',\n",
       "       '3.31', '2.76', '1.82', '0.98', '1.58', '3.17', '1.18'],\n",
       "      dtype=object)"
      ]
     },
     "execution_count": 20,
     "metadata": {},
     "output_type": "execute_result"
    }
   ],
   "source": [
    "weather_df['PrecipTotal'].unique()"
   ]
  },
  {
   "cell_type": "markdown",
   "id": "a100fab1",
   "metadata": {},
   "source": [
    "#### Change '  T' to float"
   ]
  },
  {
   "cell_type": "markdown",
   "id": "edd09ddb",
   "metadata": {},
   "source": [
    "According to Northeast Regional Climate Center, trace is \"less than 0.01\" of precipitation, less than 0.1\" of snow\""
   ]
  },
  {
   "cell_type": "code",
   "execution_count": 21,
   "id": "d2b451e5",
   "metadata": {},
   "outputs": [],
   "source": [
    "# replace '  T' with 0.005 for 'PrecipTotal'\n",
    "weather_df['PrecipTotal'] = weather_df['PrecipTotal'].replace('  T','0.005')\n",
    "# replace '  T' with 0.05 for 'SnowFall'\n",
    "weather_df['SnowFall'] = weather_df['SnowFall'].replace('  T','0.05') "
   ]
  },
  {
   "cell_type": "code",
   "execution_count": 22,
   "id": "d21535a2",
   "metadata": {},
   "outputs": [],
   "source": [
    "# reset index\n",
    "weather_df = weather_df.reset_index()"
   ]
  },
  {
   "cell_type": "code",
   "execution_count": 23,
   "id": "5e178c06",
   "metadata": {},
   "outputs": [],
   "source": [
    "# set 'Date' back to object\n",
    "weather_df['Date'] = weather_df['Date'].dt.strftime('%Y-%m-%d')"
   ]
  },
  {
   "cell_type": "markdown",
   "id": "57d0212b",
   "metadata": {},
   "source": [
    "#### Save cleaned `weather_df` as csv file"
   ]
  },
  {
   "cell_type": "code",
   "execution_count": 24,
   "id": "c0e5763e",
   "metadata": {},
   "outputs": [],
   "source": [
    "weather_df.to_csv('../data/input/cleaned_weather.csv',index=False)"
   ]
  },
  {
   "cell_type": "markdown",
   "id": "fc42f896",
   "metadata": {},
   "source": [
    "<a id='citations'></a>"
   ]
  },
  {
   "cell_type": "markdown",
   "id": "2bfe2664",
   "metadata": {
    "tags": [
     "code"
    ]
   },
   "source": [
    "## 5. Citations"
   ]
  },
  {
   "cell_type": "markdown",
   "id": "68c3db85",
   "metadata": {},
   "source": [
    "Drakou, K., Nikolaou, T., Vasquez, M. I., Petrić, D., Michaelakis, A., Kapranas, A., Papatheodoulou, A., & Koliou, M. (2020). The Effect of Weather Variables on Mosquito Activity: A Snapshot of the Main Point of Entry of Cyprus. International Journal of Environmental Research and Public Health, 17(4), 1403. Retrieved July 4, 2023, from https://doi.org/10.3390/ijerph17041403\n",
    "\n",
    "Lebl, K., Brugger, K., & Rubel, F. (2013). Predicting Culex pipiens/restuans population dynamics by interval lagged weather data. Parasites & Vectors, 6(1). Retrieved July 4, 2023, from https://doi.org/10.1186/1756-3305-6-129\n",
    "\n",
    "Thornton, S. (2021). Chicago Turns to Predictive Analytics to Map West Nile Threat. GovTech. Retrieved July 4, 2023, from https://www.govtech.com/analytics/chicago-turns-to-predictive-analytics-to-map-west-nile-threat.html\n",
    "\n",
    "What Does It All Mean? (2020, February 24). Retrieved July 4, 2023, from https://www.nrcc.cornell.edu/services/blog/2020/02/24/index.html"
   ]
  },
  {
   "cell_type": "markdown",
   "id": "62381ad9",
   "metadata": {},
   "source": [
    "## <b> End of Part I</b> <br>\n",
    "\n",
    "The next codebook will cover EDA. <br>\n",
    "\n",
    "[Part II](Part_2-EDA_and_Feature_Engineering.ipynb#part_ii) <br>\n",
    "[Part III](Part_3-Modelling.ipynb#part_iii)"
   ]
  }
 ],
 "metadata": {
  "kernelspec": {
   "display_name": "Python 3 (ipykernel)",
   "language": "python",
   "name": "python3"
  },
  "language_info": {
   "codemirror_mode": {
    "name": "ipython",
    "version": 3
   },
   "file_extension": ".py",
   "mimetype": "text/x-python",
   "name": "python",
   "nbconvert_exporter": "python",
   "pygments_lexer": "ipython3",
   "version": "3.10.11"
  },
  "vp": {
   "vp_config_version": "1.0.0",
   "vp_menu_width": 273,
   "vp_note_display": false,
   "vp_note_width": 0,
   "vp_position": {
    "width": 278
   },
   "vp_section_display": false,
   "vp_signature": "VisualPython"
  }
 },
 "nbformat": 4,
 "nbformat_minor": 5
}
